{
  "nbformat": 4,
  "nbformat_minor": 0,
  "metadata": {
    "colab": {
      "provenance": [],
      "gpuType": "A100",
      "include_colab_link": true
    },
    "kernelspec": {
      "name": "python3",
      "display_name": "Python 3"
    },
    "language_info": {
      "name": "python"
    },
    "accelerator": "GPU"
  },
  "cells": [
    {
      "cell_type": "markdown",
      "metadata": {
        "id": "view-in-github",
        "colab_type": "text"
      },
      "source": [
        "<a href=\"https://colab.research.google.com/github/aishamohamed/GAN-Benchmarck/blob/main/classify_resnet_gan.ipynb\" target=\"_parent\"><img src=\"https://colab.research.google.com/assets/colab-badge.svg\" alt=\"Open In Colab\"/></a>"
      ]
    },
    {
      "cell_type": "markdown",
      "source": [
        "# DCGAN-Augmented Melanoma Classification\n",
        "\n",
        "**Author:** Aisha Mohamed\n",
        "**Supervisor:** Reihaneh Tarlani  \n",
        "**Course:** ISIC-2017 GAN Benchmarking (Bachelor’s Thesis, Spring 2025)  \n",
        "\n",
        "This notebook implements an end-to-end pipeline for augmenting a ResNet-18 skin lesion classifier with DCGAN-generated synthetic melanoma images. We compare baseline (real-only) performance with augmented training using 200 and 500 synthetic samples."
      ],
      "metadata": {
        "id": "WSgUQ_drxpms"
      }
    },
    {
      "cell_type": "markdown",
      "source": [
        "## Environment Setup"
      ],
      "metadata": {
        "id": "7SaX4Aurx9e5"
      }
    },
    {
      "cell_type": "code",
      "source": [
        "#imports\n",
        "import os, glob\n",
        "from PIL import Image\n",
        "import torch\n",
        "from torch.utils.data import Dataset, DataLoader, Subset, ConcatDataset\n",
        "from torchvision import transforms as T, datasets\n",
        "import matplotlib.pyplot as plt\n",
        "import numpy as np\n",
        "import torch.nn as nn\n",
        "import torch.optim as optim\n",
        "from pathlib import Path\n",
        "from torchvision import models\n",
        "import torch.nn.functional as F\n",
        "import torchvision.utils as vutils\n",
        "from sklearn.metrics import classification_report\n",
        "import random\n",
        "import torch\n",
        "from torch.utils.data import random_split\n",
        "from collections import defaultdict\n",
        "\n",
        "\n",
        "\n",
        "\n",
        "\n",
        "# Device configuration\n",
        "device = torch.device('cuda' if torch.cuda.is_available() else 'cpu')\n",
        "print(\"Running on:\", device)\n"
      ],
      "metadata": {
        "id": "j1-6oWm4xCl-",
        "colab": {
          "base_uri": "https://localhost:8080/"
        },
        "outputId": "0d53b11d-4fe7-44dc-c68f-d9902796a002"
      },
      "execution_count": 16,
      "outputs": [
        {
          "output_type": "stream",
          "name": "stdout",
          "text": [
            "Running on: cuda\n"
          ]
        }
      ]
    },
    {
      "cell_type": "code",
      "source": [
        "def set_seed(seed):\n",
        "    random.seed(seed)\n",
        "    np.random.seed(seed)\n",
        "    torch.manual_seed(seed)\n",
        "    if torch.cuda.is_available():\n",
        "        torch.cuda.manual_seed_all(seed)\n",
        "\n",
        "SEEDS = [42, 43, 44, 45, 46]\n"
      ],
      "metadata": {
        "id": "TEuDMYAKJ7aN"
      },
      "execution_count": 17,
      "outputs": []
    },
    {
      "cell_type": "markdown",
      "source": [
        "##  Paths & Hyperparameters"
      ],
      "metadata": {
        "id": "HHCOPldqyo3g"
      }
    },
    {
      "cell_type": "code",
      "source": [
        "# filesystem & paths\n",
        "from pathlib import Path\n",
        "BASE     = Path('/content/drive/MyDrive/ISIC2017')\n",
        "REAL_ROOT= BASE / 'by_class_128'\n",
        "SYN_ROOT = BASE / 'synthetic_melanoma'\n",
        "TEST_ROOT= BASE / 'test_by_class'\n",
        "\n",
        "# hyperparameters\n",
        "image_size = 128\n",
        "batch_size = 32\n",
        "num_epochs = 100\n",
        "lr         = 1e-4\n",
        "nz         = 100\n",
        "nz  = 100\n",
        "ngf = 64\n",
        "nc  = 3"
      ],
      "metadata": {
        "collapsed": true,
        "id": "exIMEhF7Tdae"
      },
      "execution_count": 18,
      "outputs": []
    },
    {
      "cell_type": "markdown",
      "source": [
        "## Data Transforms & Loaders"
      ],
      "metadata": {
        "id": "pqAMovjpyDdO"
      }
    },
    {
      "cell_type": "code",
      "source": [
        "# preprocessing transform\n",
        "clf_tf = T.Compose([\n",
        "    T.Resize(image_size),\n",
        "    T.RandomHorizontalFlip(0.5),\n",
        "    T.RandomRotation(30),\n",
        "    T.CenterCrop(image_size),\n",
        "    T.ToTensor(),\n",
        "    T.Normalize([0.485,0.456,0.406],[0.229,0.224,0.225]),\n",
        "])\n",
        "real_ds    = datasets.ImageFolder(str(REAL_ROOT), transform=clf_tf)\n",
        "\n",
        "# split real_ds to train_real_ds + val_ds (80/20)\n",
        "n_val    = int(len(real_ds) * 0.2)\n",
        "n_train  = len(real_ds) - n_val\n",
        "train_real_ds, val_ds = random_split(\n",
        "    real_ds, [n_train, n_val],\n",
        "    generator=torch.Generator().manual_seed(SEED)\n",
        ")\n",
        "\n",
        "# Loaders\n",
        "train_real_loader= DataLoader(real_ds, batch_size=batch_size, shuffle=True,  num_workers=2)\n",
        "val_loader        = DataLoader(val_ds,        batch_size=batch_size, shuffle=False, num_workers=2)\n",
        "\n",
        "# Test loader\n",
        "test_ds    = datasets.ImageFolder(str(TEST_ROOT), transform=clf_tf)\n",
        "test_loader= DataLoader(test_ds,   batch_size=batch_size, shuffle=False, num_workers=2)\n",
        "\n",
        "print(\"Real classes:\", real_ds.classes, \"=>\", len(real_ds))\n",
        "print(\"Test   total:\", len(test_ds))\n"
      ],
      "metadata": {
        "colab": {
          "base_uri": "https://localhost:8080/"
        },
        "id": "nHJdA-DjUa-k",
        "outputId": "64d049fa-15e2-45d4-b596-0158505ea524"
      },
      "execution_count": 19,
      "outputs": [
        {
          "output_type": "stream",
          "name": "stdout",
          "text": [
            "Real classes: ['melanoma', 'nevus', 'seborrheic_keratosis'] => 2000\n",
            "Test   total: 600\n"
          ]
        }
      ]
    },
    {
      "cell_type": "markdown",
      "source": [
        "## DCGAN Generator Definition & Loading"
      ],
      "metadata": {
        "id": "XXSKZqiGzFUu"
      }
    },
    {
      "cell_type": "code",
      "source": [
        "# Define DCGAN Generator (matches training architecture)\n",
        "class Generator(nn.Module):\n",
        "    def __init__(self):\n",
        "        super().__init__()\n",
        "        self.main = nn.Sequential(\n",
        "            # 1×1→4×4\n",
        "            nn.ConvTranspose2d(nz, ngf*8, 4, 1, 0, bias=False),\n",
        "            nn.BatchNorm2d(ngf*8),\n",
        "            nn.ReLU(True),\n",
        "            # 4→8\n",
        "            nn.ConvTranspose2d(ngf*8, ngf*4, 4, 2, 1, bias=False),\n",
        "            nn.BatchNorm2d(ngf*4),\n",
        "            nn.ReLU(True),\n",
        "            # 8→16\n",
        "            nn.ConvTranspose2d(ngf*4, ngf*2, 4, 2, 1, bias=False),\n",
        "            nn.BatchNorm2d(ngf*2),\n",
        "            nn.ReLU(True),\n",
        "            # 16→32\n",
        "            nn.ConvTranspose2d(ngf*2, ngf, 4, 2, 1, bias=False),\n",
        "            nn.BatchNorm2d(ngf),\n",
        "            nn.ReLU(True),\n",
        "            # 32→64\n",
        "            nn.ConvTranspose2d(ngf, ngf//2, 4, 2, 1, bias=False),\n",
        "            nn.BatchNorm2d(ngf//2),\n",
        "            nn.ReLU(True),\n",
        "            # 64→128\n",
        "            nn.ConvTranspose2d(ngf//2, 3, 4, 2, 1, bias=False),\n",
        "            nn.Tanh()\n",
        "        )\n",
        "    def forward(self, x):\n",
        "        return self.main(x)\n",
        "\n",
        "\n",
        "# Instantiate & load saved weights\n",
        "generator = Generator().to(device)\n",
        "\n",
        "gen_path = '/content/drive/MyDrive/ISIC2017/models/generator_epoch170.pth'\n",
        "state    = torch.load(gen_path, map_location=device)\n",
        "generator.load_state_dict(state)\n",
        "\n",
        "generator.eval()\n",
        "print(\"Loaded DCGAN generator from\", gen_path)\n",
        "\n"
      ],
      "metadata": {
        "colab": {
          "base_uri": "https://localhost:8080/"
        },
        "id": "6nN3xQhMdJHi",
        "outputId": "c1e6682f-0b75-4969-99dd-f0d1861fd3d3"
      },
      "execution_count": 20,
      "outputs": [
        {
          "output_type": "stream",
          "name": "stdout",
          "text": [
            "Loaded DCGAN generator from /content/drive/MyDrive/ISIC2017/models/generator_epoch170.pth\n"
          ]
        }
      ]
    },
    {
      "cell_type": "markdown",
      "source": [
        "## Define Classifier & Save Initial Weights"
      ],
      "metadata": {
        "id": "MoY-K6V6z47x"
      }
    },
    {
      "cell_type": "code",
      "source": [
        "def make_classifier(num_classes):\n",
        "    model = models.resnet18(pretrained=True)\n",
        "    model.fc = nn.Linear(model.fc.in_features, num_classes)\n",
        "    return model.to(device)\n",
        "\n",
        "# initial model & save its “fresh” state for reset\n",
        "model = make_classifier(len(real_ds.classes))\n",
        "torch.save(model.state_dict(), '/content/initial_resnet18.pth')\n",
        "\n",
        "import torch.optim as optim\n",
        "criterion = nn.CrossEntropyLoss()\n",
        "optimizer = optim.Adam(model.parameters(), lr=lr, weight_decay=1e-4)"
      ],
      "metadata": {
        "colab": {
          "base_uri": "https://localhost:8080/"
        },
        "collapsed": true,
        "id": "DdmSCHH1YhGi",
        "outputId": "799c0ace-b50c-41ed-846f-a9f57230a439"
      },
      "execution_count": 21,
      "outputs": [
        {
          "output_type": "stream",
          "name": "stderr",
          "text": [
            "/usr/local/lib/python3.11/dist-packages/torchvision/models/_utils.py:208: UserWarning: The parameter 'pretrained' is deprecated since 0.13 and may be removed in the future, please use 'weights' instead.\n",
            "  warnings.warn(\n",
            "/usr/local/lib/python3.11/dist-packages/torchvision/models/_utils.py:223: UserWarning: Arguments other than a weight enum or `None` for 'weights' are deprecated since 0.13 and may be removed in the future. The current behavior is equivalent to passing `weights=ResNet18_Weights.IMAGENET1K_V1`. You can also use `weights=ResNet18_Weights.DEFAULT` to get the most up-to-date weights.\n",
            "  warnings.warn(msg)\n"
          ]
        }
      ]
    },
    {
      "cell_type": "markdown",
      "source": [
        "## Training & Evaluation Routines"
      ],
      "metadata": {
        "id": "2onahe7J0H5g"
      }
    },
    {
      "cell_type": "code",
      "source": [
        "def train_one_epoch(dataloader):\n",
        "    model.train()\n",
        "    total_loss = 0\n",
        "    for imgs, labs in dataloader:\n",
        "        imgs, labs = imgs.to(device), labs.to(device)\n",
        "        optimizer.zero_grad()\n",
        "        logits = model(imgs)\n",
        "        loss   = criterion(logits, labs)\n",
        "        loss.backward()\n",
        "        optimizer.step()\n",
        "        total_loss += loss.item() * imgs.size(0)\n",
        "    return total_loss / len(dataloader.dataset)\n",
        "\n",
        "from sklearn.metrics import classification_report\n",
        "\n",
        "@torch.no_grad()\n",
        "def evaluate(loader):\n",
        "    model.eval()\n",
        "    correct = defaultdict(int)\n",
        "    total   = defaultdict(int)\n",
        "    all_preds, all_labels = [], []\n",
        "\n",
        "    for imgs, labs in loader:\n",
        "        imgs, labs = imgs.to(device), labs.to(device)\n",
        "        logits     = model(imgs)\n",
        "        preds      = logits.argmax(dim=1)\n",
        "\n",
        "        # accumulate per‐class counts\n",
        "        for p, t in zip(preds, labs):\n",
        "            idx = int(t)\n",
        "            total[idx]   += 1\n",
        "            if int(p) == idx:\n",
        "                correct[idx] += 1\n",
        "\n",
        "        all_preds.extend(preds.cpu().tolist())\n",
        "        all_labels.extend(labs.cpu().tolist())\n",
        "\n",
        "    # build per‐class accuracy dict\n",
        "    per_class_acc = {\n",
        "        cls_idx: correct[cls_idx] / total[cls_idx]\n",
        "        for cls_idx in total\n",
        "    }\n",
        "\n",
        "    return all_labels, all_preds, per_class_acc\n"
      ],
      "metadata": {
        "id": "nQMycycnYiS3"
      },
      "execution_count": 22,
      "outputs": []
    },
    {
      "cell_type": "markdown",
      "source": [
        "##Baseline (Real-Only) Training & Eval"
      ],
      "metadata": {
        "id": "10pvo-LK0QrW"
      }
    },
    {
      "cell_type": "code",
      "source": [
        "# ─── Baseline (real-only) with multi‐seed ───\n",
        "baseline_epochs, baseline_recalls = [], []\n",
        "\n",
        "for seed in SEEDS:\n",
        "    set_seed(seed)\n",
        "    print(f\"\\n===== Baseline seed={seed} =====\")\n",
        "    # reload fresh model & optimizer\n",
        "    model.load_state_dict(torch.load('/content/initial_resnet18.pth'))\n",
        "    optimizer = optim.Adam(model.parameters(), lr=lr)\n",
        "\n",
        "\n",
        "    train_losses_b, val_losses_b = [], []\n",
        "    best_val    = float('inf')\n",
        "    stale       = 0\n",
        "    patience    = 5                # stop if no improvement for 5 epochs\n",
        "    torch.save(model.state_dict(), 'best_baseline.pth')  # seed a “best” file\n",
        "\n",
        "\n",
        "    stop_epoch = num_epochs\n",
        "    for epoch in range(1, num_epochs+1):\n",
        "        # — train —\n",
        "        tr_loss = train_one_epoch(train_real_loader)\n",
        "        train_losses_b.append(tr_loss)\n",
        "        # — validate —\n",
        "        running_val_loss = 0.0\n",
        "        total = 0\n",
        "        for imgs, labs in val_loader:\n",
        "            imgs, labs = imgs.to(device), labs.to(device)\n",
        "            logits = model(imgs)\n",
        "            running_val_loss += criterion(logits, labs).item() * imgs.size(0)\n",
        "            total += labs.size(0)\n",
        "        val_loss = running_val_loss / len(val_ds)\n",
        "        val_losses_b.append(val_loss)\n",
        "        print(f\"[Baseline] Epoch {epoch}/{num_epochs} Train Loss: {tr_loss:.4f}  Val Loss: {val_loss:.4f}\")\n",
        "\n",
        "        if val_loss < best_val - 1e-4:\n",
        "          best_val = val_loss\n",
        "          stale    = 0\n",
        "          torch.save(model.state_dict(), 'best_baseline.pth')\n",
        "        else:\n",
        "          stale += 1\n",
        "          if stale >= patience:\n",
        "            stop_epoch = epoch\n",
        "            print(f\"=> Baseline early-stopping at epoch {epoch}\")\n",
        "            break\n",
        "\n",
        "    # restore best\n",
        "    model.load_state_dict(torch.load('best_baseline.pth'))\n",
        "    # — test —\n",
        "    y_true_base, y_pred_base, per_class_acc_baseline   = evaluate(test_loader)\n",
        "    print(\"\\nBaseline test report:\")\n",
        "    print(classification_report(y_true_base, y_pred_base, target_names=real_ds.classes))\n",
        "    print(\"Per-class accuracy:\", per_class_acc_baseline)\n",
        "\n",
        "    # record\n",
        "    baseline_epochs.append(stop_epoch)\n",
        "    baseline_recalls.append(per_class_acc_baseline[0])\n",
        "\n",
        "print(\"\\nBaseline over seeds:\")\n",
        "print(f\"  epochs: {np.mean(baseline_epochs):.1f} ± {np.std(baseline_epochs):.1f}\")\n",
        "print(f\"  mel recall: {np.mean(baseline_recalls):.3f} ± {np.std(baseline_recalls):.3f}\")"
      ],
      "metadata": {
        "colab": {
          "base_uri": "https://localhost:8080/"
        },
        "id": "l7i5NHM6YjR0",
        "outputId": "0cf4f027-15ff-479d-cbb3-97e4e994214b"
      },
      "execution_count": 23,
      "outputs": [
        {
          "output_type": "stream",
          "name": "stdout",
          "text": [
            "\n",
            "===== Baseline seed=42 =====\n",
            "[Baseline] Epoch 1/100 Train Loss: 0.7715  Val Loss: 0.5439\n",
            "[Baseline] Epoch 2/100 Train Loss: 0.5636  Val Loss: 0.5275\n",
            "[Baseline] Epoch 3/100 Train Loss: 0.4931  Val Loss: 0.4410\n",
            "[Baseline] Epoch 4/100 Train Loss: 0.4222  Val Loss: 0.3697\n",
            "[Baseline] Epoch 5/100 Train Loss: 0.3630  Val Loss: 0.2907\n",
            "[Baseline] Epoch 6/100 Train Loss: 0.3285  Val Loss: 0.2492\n",
            "[Baseline] Epoch 7/100 Train Loss: 0.2981  Val Loss: 0.2634\n",
            "[Baseline] Epoch 8/100 Train Loss: 0.2524  Val Loss: 0.1904\n",
            "[Baseline] Epoch 9/100 Train Loss: 0.2199  Val Loss: 0.2009\n",
            "[Baseline] Epoch 10/100 Train Loss: 0.1941  Val Loss: 0.1207\n",
            "[Baseline] Epoch 11/100 Train Loss: 0.1810  Val Loss: 0.1467\n",
            "[Baseline] Epoch 12/100 Train Loss: 0.1405  Val Loss: 0.0996\n",
            "[Baseline] Epoch 13/100 Train Loss: 0.1299  Val Loss: 0.0984\n",
            "[Baseline] Epoch 14/100 Train Loss: 0.1201  Val Loss: 0.0858\n",
            "[Baseline] Epoch 15/100 Train Loss: 0.1349  Val Loss: 0.0764\n",
            "[Baseline] Epoch 16/100 Train Loss: 0.0915  Val Loss: 0.0572\n",
            "[Baseline] Epoch 17/100 Train Loss: 0.0927  Val Loss: 0.0744\n",
            "[Baseline] Epoch 18/100 Train Loss: 0.0766  Val Loss: 0.0674\n",
            "[Baseline] Epoch 19/100 Train Loss: 0.1028  Val Loss: 0.0824\n",
            "[Baseline] Epoch 20/100 Train Loss: 0.0967  Val Loss: 0.0838\n",
            "[Baseline] Epoch 21/100 Train Loss: 0.1007  Val Loss: 0.0901\n",
            "=> Baseline early-stopping at epoch 21\n",
            "\n",
            "Baseline test report:\n",
            "                      precision    recall  f1-score   support\n",
            "\n",
            "            melanoma       0.46      0.28      0.35       117\n",
            "               nevus       0.73      0.84      0.78       393\n",
            "seborrheic_keratosis       0.42      0.36      0.39        90\n",
            "\n",
            "            accuracy                           0.66       600\n",
            "           macro avg       0.54      0.49      0.50       600\n",
            "        weighted avg       0.63      0.66      0.64       600\n",
            "\n",
            "Per-class accuracy: {0: 0.28205128205128205, 1: 0.8371501272264631, 2: 0.35555555555555557}\n",
            "\n",
            "===== Baseline seed=43 =====\n",
            "[Baseline] Epoch 1/100 Train Loss: 0.7493  Val Loss: 0.5741\n",
            "[Baseline] Epoch 2/100 Train Loss: 0.5412  Val Loss: 0.4494\n",
            "[Baseline] Epoch 3/100 Train Loss: 0.4963  Val Loss: 0.4155\n",
            "[Baseline] Epoch 4/100 Train Loss: 0.4077  Val Loss: 0.3524\n",
            "[Baseline] Epoch 5/100 Train Loss: 0.3867  Val Loss: 0.3729\n",
            "[Baseline] Epoch 6/100 Train Loss: 0.3133  Val Loss: 0.2562\n",
            "[Baseline] Epoch 7/100 Train Loss: 0.2765  Val Loss: 0.2180\n",
            "[Baseline] Epoch 8/100 Train Loss: 0.2333  Val Loss: 0.1921\n",
            "[Baseline] Epoch 9/100 Train Loss: 0.1859  Val Loss: 0.1388\n",
            "[Baseline] Epoch 10/100 Train Loss: 0.1902  Val Loss: 0.2144\n",
            "[Baseline] Epoch 11/100 Train Loss: 0.1779  Val Loss: 0.1072\n",
            "[Baseline] Epoch 12/100 Train Loss: 0.1618  Val Loss: 0.1180\n",
            "[Baseline] Epoch 13/100 Train Loss: 0.1536  Val Loss: 0.1191\n",
            "[Baseline] Epoch 14/100 Train Loss: 0.1271  Val Loss: 0.1146\n",
            "[Baseline] Epoch 15/100 Train Loss: 0.1227  Val Loss: 0.0889\n",
            "[Baseline] Epoch 16/100 Train Loss: 0.1003  Val Loss: 0.0894\n",
            "[Baseline] Epoch 17/100 Train Loss: 0.0940  Val Loss: 0.0926\n",
            "[Baseline] Epoch 18/100 Train Loss: 0.0854  Val Loss: 0.0639\n",
            "[Baseline] Epoch 19/100 Train Loss: 0.0949  Val Loss: 0.0870\n",
            "[Baseline] Epoch 20/100 Train Loss: 0.0843  Val Loss: 0.0707\n",
            "[Baseline] Epoch 21/100 Train Loss: 0.0617  Val Loss: 0.0884\n",
            "[Baseline] Epoch 22/100 Train Loss: 0.0933  Val Loss: 0.0782\n",
            "[Baseline] Epoch 23/100 Train Loss: 0.0641  Val Loss: 0.0341\n",
            "[Baseline] Epoch 24/100 Train Loss: 0.0899  Val Loss: 0.1118\n",
            "[Baseline] Epoch 25/100 Train Loss: 0.1069  Val Loss: 0.0786\n",
            "[Baseline] Epoch 26/100 Train Loss: 0.0846  Val Loss: 0.0513\n",
            "[Baseline] Epoch 27/100 Train Loss: 0.0625  Val Loss: 0.0509\n",
            "[Baseline] Epoch 28/100 Train Loss: 0.0499  Val Loss: 0.0356\n",
            "=> Baseline early-stopping at epoch 28\n",
            "\n",
            "Baseline test report:\n",
            "                      precision    recall  f1-score   support\n",
            "\n",
            "            melanoma       0.35      0.39      0.37       117\n",
            "               nevus       0.74      0.75      0.75       393\n",
            "seborrheic_keratosis       0.51      0.40      0.45        90\n",
            "\n",
            "            accuracy                           0.63       600\n",
            "           macro avg       0.54      0.52      0.52       600\n",
            "        weighted avg       0.63      0.63      0.63       600\n",
            "\n",
            "Per-class accuracy: {0: 0.39316239316239315, 1: 0.7531806615776081, 2: 0.4}\n",
            "\n",
            "===== Baseline seed=44 =====\n",
            "[Baseline] Epoch 1/100 Train Loss: 0.7760  Val Loss: 0.5618\n",
            "[Baseline] Epoch 2/100 Train Loss: 0.5334  Val Loss: 0.4970\n",
            "[Baseline] Epoch 3/100 Train Loss: 0.4796  Val Loss: 0.4346\n",
            "[Baseline] Epoch 4/100 Train Loss: 0.4375  Val Loss: 0.4335\n",
            "[Baseline] Epoch 5/100 Train Loss: 0.3923  Val Loss: 0.3222\n",
            "[Baseline] Epoch 6/100 Train Loss: 0.3061  Val Loss: 0.3131\n",
            "[Baseline] Epoch 7/100 Train Loss: 0.2858  Val Loss: 0.2130\n",
            "[Baseline] Epoch 8/100 Train Loss: 0.2536  Val Loss: 0.2477\n",
            "[Baseline] Epoch 9/100 Train Loss: 0.2024  Val Loss: 0.1850\n",
            "[Baseline] Epoch 10/100 Train Loss: 0.2037  Val Loss: 0.1749\n",
            "[Baseline] Epoch 11/100 Train Loss: 0.2049  Val Loss: 0.1458\n",
            "[Baseline] Epoch 12/100 Train Loss: 0.1816  Val Loss: 0.1284\n",
            "[Baseline] Epoch 13/100 Train Loss: 0.1421  Val Loss: 0.0958\n",
            "[Baseline] Epoch 14/100 Train Loss: 0.1184  Val Loss: 0.0885\n",
            "[Baseline] Epoch 15/100 Train Loss: 0.1024  Val Loss: 0.0728\n",
            "[Baseline] Epoch 16/100 Train Loss: 0.0918  Val Loss: 0.0784\n",
            "[Baseline] Epoch 17/100 Train Loss: 0.1132  Val Loss: 0.0857\n",
            "[Baseline] Epoch 18/100 Train Loss: 0.0898  Val Loss: 0.0875\n",
            "[Baseline] Epoch 19/100 Train Loss: 0.0891  Val Loss: 0.0685\n",
            "[Baseline] Epoch 20/100 Train Loss: 0.0743  Val Loss: 0.0440\n",
            "[Baseline] Epoch 21/100 Train Loss: 0.0696  Val Loss: 0.0417\n",
            "[Baseline] Epoch 22/100 Train Loss: 0.0697  Val Loss: 0.0601\n",
            "[Baseline] Epoch 23/100 Train Loss: 0.0729  Val Loss: 0.0451\n",
            "[Baseline] Epoch 24/100 Train Loss: 0.0627  Val Loss: 0.0685\n",
            "[Baseline] Epoch 25/100 Train Loss: 0.0705  Val Loss: 0.0383\n",
            "[Baseline] Epoch 26/100 Train Loss: 0.0580  Val Loss: 0.0403\n",
            "[Baseline] Epoch 27/100 Train Loss: 0.0822  Val Loss: 0.0515\n",
            "[Baseline] Epoch 28/100 Train Loss: 0.0815  Val Loss: 0.0481\n",
            "[Baseline] Epoch 29/100 Train Loss: 0.0435  Val Loss: 0.0285\n",
            "[Baseline] Epoch 30/100 Train Loss: 0.0276  Val Loss: 0.0393\n",
            "[Baseline] Epoch 31/100 Train Loss: 0.0400  Val Loss: 0.0380\n",
            "[Baseline] Epoch 32/100 Train Loss: 0.0656  Val Loss: 0.0292\n",
            "[Baseline] Epoch 33/100 Train Loss: 0.0576  Val Loss: 0.0515\n",
            "[Baseline] Epoch 34/100 Train Loss: 0.0623  Val Loss: 0.0321\n",
            "=> Baseline early-stopping at epoch 34\n",
            "\n",
            "Baseline test report:\n",
            "                      precision    recall  f1-score   support\n",
            "\n",
            "            melanoma       0.38      0.32      0.34       117\n",
            "               nevus       0.69      0.84      0.76       393\n",
            "seborrheic_keratosis       0.43      0.13      0.20        90\n",
            "\n",
            "            accuracy                           0.63       600\n",
            "           macro avg       0.50      0.43      0.44       600\n",
            "        weighted avg       0.59      0.63      0.59       600\n",
            "\n",
            "Per-class accuracy: {0: 0.3162393162393162, 1: 0.8371501272264631, 2: 0.13333333333333333}\n",
            "\n",
            "===== Baseline seed=45 =====\n",
            "[Baseline] Epoch 1/100 Train Loss: 0.7466  Val Loss: 0.5618\n",
            "[Baseline] Epoch 2/100 Train Loss: 0.5343  Val Loss: 0.4975\n",
            "[Baseline] Epoch 3/100 Train Loss: 0.4585  Val Loss: 0.4100\n",
            "[Baseline] Epoch 4/100 Train Loss: 0.4123  Val Loss: 0.3301\n",
            "[Baseline] Epoch 5/100 Train Loss: 0.3638  Val Loss: 0.3024\n",
            "[Baseline] Epoch 6/100 Train Loss: 0.3233  Val Loss: 0.2648\n",
            "[Baseline] Epoch 7/100 Train Loss: 0.2736  Val Loss: 0.2333\n",
            "[Baseline] Epoch 8/100 Train Loss: 0.2343  Val Loss: 0.2163\n",
            "[Baseline] Epoch 9/100 Train Loss: 0.2108  Val Loss: 0.1534\n",
            "[Baseline] Epoch 10/100 Train Loss: 0.1807  Val Loss: 0.1285\n",
            "[Baseline] Epoch 11/100 Train Loss: 0.1315  Val Loss: 0.1447\n",
            "[Baseline] Epoch 12/100 Train Loss: 0.1292  Val Loss: 0.1042\n",
            "[Baseline] Epoch 13/100 Train Loss: 0.1600  Val Loss: 0.1492\n",
            "[Baseline] Epoch 14/100 Train Loss: 0.1334  Val Loss: 0.1094\n",
            "[Baseline] Epoch 15/100 Train Loss: 0.1032  Val Loss: 0.0868\n",
            "[Baseline] Epoch 16/100 Train Loss: 0.0993  Val Loss: 0.0738\n",
            "[Baseline] Epoch 17/100 Train Loss: 0.1010  Val Loss: 0.0664\n",
            "[Baseline] Epoch 18/100 Train Loss: 0.0807  Val Loss: 0.0725\n",
            "[Baseline] Epoch 19/100 Train Loss: 0.0786  Val Loss: 0.0485\n",
            "[Baseline] Epoch 20/100 Train Loss: 0.0935  Val Loss: 0.0850\n",
            "[Baseline] Epoch 21/100 Train Loss: 0.0788  Val Loss: 0.0561\n",
            "[Baseline] Epoch 22/100 Train Loss: 0.0820  Val Loss: 0.0514\n",
            "[Baseline] Epoch 23/100 Train Loss: 0.1040  Val Loss: 0.0505\n",
            "[Baseline] Epoch 24/100 Train Loss: 0.0706  Val Loss: 0.0386\n",
            "[Baseline] Epoch 25/100 Train Loss: 0.0740  Val Loss: 0.0619\n",
            "[Baseline] Epoch 26/100 Train Loss: 0.0554  Val Loss: 0.0544\n",
            "[Baseline] Epoch 27/100 Train Loss: 0.0645  Val Loss: 0.0397\n",
            "[Baseline] Epoch 28/100 Train Loss: 0.0626  Val Loss: 0.0744\n",
            "[Baseline] Epoch 29/100 Train Loss: 0.0815  Val Loss: 0.0411\n",
            "=> Baseline early-stopping at epoch 29\n",
            "\n",
            "Baseline test report:\n",
            "                      precision    recall  f1-score   support\n",
            "\n",
            "            melanoma       0.32      0.47      0.38       117\n",
            "               nevus       0.73      0.69      0.71       393\n",
            "seborrheic_keratosis       0.41      0.23      0.30        90\n",
            "\n",
            "            accuracy                           0.58       600\n",
            "           macro avg       0.48      0.47      0.46       600\n",
            "        weighted avg       0.60      0.58      0.58       600\n",
            "\n",
            "Per-class accuracy: {0: 0.4700854700854701, 1: 0.6921119592875318, 2: 0.23333333333333334}\n",
            "\n",
            "===== Baseline seed=46 =====\n",
            "[Baseline] Epoch 1/100 Train Loss: 0.7952  Val Loss: 0.6109\n",
            "[Baseline] Epoch 2/100 Train Loss: 0.5744  Val Loss: 0.4965\n",
            "[Baseline] Epoch 3/100 Train Loss: 0.4961  Val Loss: 0.4100\n",
            "[Baseline] Epoch 4/100 Train Loss: 0.4521  Val Loss: 0.3857\n",
            "[Baseline] Epoch 5/100 Train Loss: 0.3749  Val Loss: 0.2750\n",
            "[Baseline] Epoch 6/100 Train Loss: 0.3218  Val Loss: 0.2589\n",
            "[Baseline] Epoch 7/100 Train Loss: 0.2954  Val Loss: 0.2560\n",
            "[Baseline] Epoch 8/100 Train Loss: 0.2754  Val Loss: 0.2097\n",
            "[Baseline] Epoch 9/100 Train Loss: 0.2349  Val Loss: 0.1627\n",
            "[Baseline] Epoch 10/100 Train Loss: 0.2035  Val Loss: 0.1698\n",
            "[Baseline] Epoch 11/100 Train Loss: 0.1668  Val Loss: 0.1170\n",
            "[Baseline] Epoch 12/100 Train Loss: 0.1616  Val Loss: 0.1405\n",
            "[Baseline] Epoch 13/100 Train Loss: 0.1418  Val Loss: 0.1207\n",
            "[Baseline] Epoch 14/100 Train Loss: 0.1248  Val Loss: 0.1326\n",
            "[Baseline] Epoch 15/100 Train Loss: 0.1346  Val Loss: 0.0972\n",
            "[Baseline] Epoch 16/100 Train Loss: 0.1072  Val Loss: 0.0854\n",
            "[Baseline] Epoch 17/100 Train Loss: 0.0851  Val Loss: 0.0901\n",
            "[Baseline] Epoch 18/100 Train Loss: 0.0864  Val Loss: 0.1358\n",
            "[Baseline] Epoch 19/100 Train Loss: 0.1016  Val Loss: 0.0413\n",
            "[Baseline] Epoch 20/100 Train Loss: 0.0740  Val Loss: 0.0546\n",
            "[Baseline] Epoch 21/100 Train Loss: 0.0739  Val Loss: 0.0571\n",
            "[Baseline] Epoch 22/100 Train Loss: 0.0822  Val Loss: 0.0492\n",
            "[Baseline] Epoch 23/100 Train Loss: 0.1009  Val Loss: 0.0664\n",
            "[Baseline] Epoch 24/100 Train Loss: 0.0712  Val Loss: 0.0594\n",
            "=> Baseline early-stopping at epoch 24\n",
            "\n",
            "Baseline test report:\n",
            "                      precision    recall  f1-score   support\n",
            "\n",
            "            melanoma       0.30      0.41      0.35       117\n",
            "               nevus       0.71      0.68      0.69       393\n",
            "seborrheic_keratosis       0.46      0.30      0.36        90\n",
            "\n",
            "            accuracy                           0.57       600\n",
            "           macro avg       0.49      0.46      0.47       600\n",
            "        weighted avg       0.59      0.57      0.58       600\n",
            "\n",
            "Per-class accuracy: {0: 0.41025641025641024, 1: 0.6819338422391857, 2: 0.3}\n",
            "\n",
            "Baseline over seeds:\n",
            "  epochs: 27.2 ± 4.4\n",
            "  mel recall: 0.374 ± 0.067\n"
          ]
        }
      ]
    },
    {
      "cell_type": "markdown",
      "source": [
        "## Augmentation Subsampling Helper"
      ],
      "metadata": {
        "id": "4OANNyGN16Rq"
      }
    },
    {
      "cell_type": "code",
      "source": [
        "from torch.utils.data import Subset\n",
        "\n",
        "def make_aug_loader(n_syn: int):\n",
        "    full_syn = datasets.ImageFolder(str(SYN_ROOT), transform=clf_tf)\n",
        "    N = len(full_syn)\n",
        "    if n_syn > N:\n",
        "        raise ValueError(f\"Requested {n_syn} synthetic > available {N}\")\n",
        "    idxs   = np.random.choice(N, size=n_syn, replace=False).tolist()\n",
        "    syn_sub= Subset(full_syn, idxs)\n",
        "\n",
        "    aug_ds = ConcatDataset([train_real_ds, syn_sub])\n",
        "    loader = DataLoader(\n",
        "        aug_ds, batch_size=batch_size, shuffle=True,\n",
        "        num_workers=2, pin_memory=True\n",
        "    )\n",
        "    print(f\"Augmented: real {len(train_real_ds)} + syn {n_syn} = {len(aug_ds)}\")\n",
        "    return loader"
      ],
      "metadata": {
        "id": "B0pSoBSFtznV"
      },
      "execution_count": 24,
      "outputs": []
    },
    {
      "cell_type": "code",
      "source": [
        "# ─── Augmentation (200 & 500) with multi‐seed ───\n",
        "aug200_epochs,   aug200_recalls  = [], []\n",
        "aug500_epochs,   aug500_recalls  = [], []\n",
        "\n",
        "for seed in SEEDS:\n",
        "    set_seed(seed)\n",
        "\n",
        "    all_train_losses = {\n",
        "        'baseline': (train_losses_b, val_losses_b)\n",
        "    }\n",
        "    print(f\"\\n===== seed={seed} =====\")\n",
        "    for n_syn in [200, 500]:\n",
        "        print(f\"\\n===== Augmented run with {n_syn} synthetic images =====\")\n",
        "        # reset model & optimizer\n",
        "        model.load_state_dict(torch.load('/content/initial_resnet18.pth', map_location=device))\n",
        "        optimizer = optim.Adam(model.parameters(), lr=lr)\n",
        "\n",
        "        # set up early-stop\n",
        "        best_val = float('inf')\n",
        "        stale    = 0\n",
        "        patience = 5\n",
        "        # seed the “best” checkpoint for this augmentation\n",
        "        torch.save(model.state_dict(), f'best_aug{n_syn}.pth')\n",
        "\n",
        "        # build a loader with exactly n_syn fakes\n",
        "        loader = make_aug_loader(n_syn)\n",
        "\n",
        "\n",
        "        train_losses, val_losses = [], []\n",
        "        stop_epoch = num_epochs\n",
        "        for epoch in range(1, num_epochs+1):\n",
        "            # — Train —\n",
        "            loss = train_one_epoch(loader)\n",
        "            train_losses.append(loss)\n",
        "\n",
        "            # — validate —\n",
        "            model.eval()\n",
        "            running_val_loss = 0.\n",
        "            correct = total = 0\n",
        "            with torch.no_grad():\n",
        "                for imgs, labs in val_loader:\n",
        "                    imgs, labs = imgs.to(device), labs.to(device)\n",
        "                    logits     = model(imgs)\n",
        "                    running_val_loss += criterion(logits, labs).item() * imgs.size(0)\n",
        "                    preds = logits.argmax(dim=1)\n",
        "                    correct += (preds == labs).sum().item()\n",
        "                    total   += labs.size(0)\n",
        "            val_loss = running_val_loss / len(val_ds)\n",
        "            val_acc  = correct / total\n",
        "            val_losses.append(val_loss)\n",
        "            print(f\"[Aug {n_syn}] Epoch {epoch}/{num_epochs}  \"\n",
        "                  f\"Train Loss: {loss:.4f}  \"\n",
        "                  f\"Val Loss: {val_loss:.4f}  \"\n",
        "                  f\"Val Acc: {val_acc:.3f}\")\n",
        "\n",
        "\n",
        "            # — early-stop check —\n",
        "            if val_loss < best_val - 1e-4:\n",
        "              best_val = val_loss\n",
        "              stale = 0\n",
        "              torch.save(model.state_dict(), f'best_aug{n_syn}.pth')\n",
        "            else:\n",
        "              stale += 1\n",
        "              if stale >= patience:\n",
        "                stop_epoch = epoch\n",
        "                print(f\"=> Aug{n_syn} early-stopping at epoch {epoch}\")\n",
        "                break\n",
        "        # restore best-val snapshot\n",
        "        model.load_state_dict(torch.load(f'best_aug{n_syn}.pth'))\n",
        "        # save losses\n",
        "        all_train_losses[n_syn] = (train_losses, val_losses)\n",
        "\n",
        "        # test\n",
        "        if n_syn == 200:\n",
        "            y_true_200, y_pred_200, per_class_acc_200 = evaluate(test_loader)\n",
        "            print(f\"\\nTest report (n_syn={n_syn}):\")\n",
        "            print(classification_report(y_true_200, y_pred_200, target_names=real_ds.classes))\n",
        "            for idx, acc in per_class_acc_200.items():\n",
        "              cls_name = real_ds.classes[idx]\n",
        "              print(f\"  {cls_name:20s}: {acc:.3f}\")\n",
        "            aug200_epochs.append(stop_epoch)\n",
        "            aug200_recalls.append(per_class_acc_200[0])\n",
        "        else:  # n_syn == 500\n",
        "            y_true_500, y_pred_500, per_class_acc_500 = evaluate(test_loader)\n",
        "            print(f\"\\nTest report (n_syn={n_syn}):\")\n",
        "            print(classification_report(y_true_500, y_pred_500, target_names=real_ds.classes))\n",
        "            for idx, acc in per_class_acc_500.items():\n",
        "              cls_name = real_ds.classes[idx]\n",
        "              print(f\"  {cls_name:20s}: {acc:.3f}\")\n",
        "            aug500_epochs.append(stop_epoch)\n",
        "            aug500_recalls.append(per_class_acc_500[0])\n",
        "\n",
        "# summary\n",
        "print(\"\\nAug+200 over seeds:\")\n",
        "print(f\"  epochs: {np.mean(aug200_epochs):.1f} ± {np.std(aug200_epochs):.1f}\")\n",
        "print(f\"  mel recall: {np.mean(aug200_recalls):.3f} ± {np.std(aug200_recalls):.3f}\")\n",
        "\n",
        "print(\"\\nAug+500 over seeds:\")\n",
        "print(f\"  epochs: {np.mean(aug500_epochs):.1f} ± {np.std(aug500_epochs):.1f}\")\n",
        "print(f\"  mel recall: {np.mean(aug500_recalls):.3f} ± {np.std(aug500_recalls):.3f}\")\n"
      ],
      "metadata": {
        "colab": {
          "base_uri": "https://localhost:8080/"
        },
        "id": "CEyd13Ibuqhy",
        "outputId": "80478b6e-47e0-4f6f-a6be-f88d9fe66121"
      },
      "execution_count": 25,
      "outputs": [
        {
          "output_type": "stream",
          "name": "stdout",
          "text": [
            "\n",
            "===== seed=42 =====\n",
            "\n",
            "===== Augmented run with 200 synthetic images =====\n",
            "Augmented: real 1600 + syn 200 = 1800\n",
            "[Aug 200] Epoch 1/100  Train Loss: 0.7259  Val Loss: 0.6332  Val Acc: 0.760\n",
            "[Aug 200] Epoch 2/100  Train Loss: 0.4999  Val Loss: 0.6319  Val Acc: 0.762\n",
            "[Aug 200] Epoch 3/100  Train Loss: 0.4102  Val Loss: 0.6235  Val Acc: 0.772\n",
            "[Aug 200] Epoch 4/100  Train Loss: 0.3362  Val Loss: 0.6911  Val Acc: 0.738\n",
            "[Aug 200] Epoch 5/100  Train Loss: 0.3200  Val Loss: 0.7330  Val Acc: 0.725\n",
            "[Aug 200] Epoch 6/100  Train Loss: 0.2879  Val Loss: 0.7384  Val Acc: 0.728\n",
            "[Aug 200] Epoch 7/100  Train Loss: 0.2354  Val Loss: 0.7241  Val Acc: 0.777\n",
            "[Aug 200] Epoch 8/100  Train Loss: 0.2096  Val Loss: 0.6755  Val Acc: 0.805\n",
            "=> Aug200 early-stopping at epoch 8\n",
            "\n",
            "Test report (n_syn=200):\n",
            "                      precision    recall  f1-score   support\n",
            "\n",
            "            melanoma       0.28      0.48      0.35       117\n",
            "               nevus       0.75      0.48      0.59       393\n",
            "seborrheic_keratosis       0.30      0.50      0.38        90\n",
            "\n",
            "            accuracy                           0.48       600\n",
            "           macro avg       0.44      0.49      0.44       600\n",
            "        weighted avg       0.59      0.48      0.51       600\n",
            "\n",
            "  melanoma            : 0.479\n",
            "  nevus               : 0.481\n",
            "  seborrheic_keratosis: 0.500\n",
            "\n",
            "===== Augmented run with 500 synthetic images =====\n",
            "Augmented: real 1600 + syn 500 = 2100\n",
            "[Aug 500] Epoch 1/100  Train Loss: 0.6343  Val Loss: 0.6578  Val Acc: 0.738\n",
            "[Aug 500] Epoch 2/100  Train Loss: 0.4385  Val Loss: 0.6831  Val Acc: 0.755\n",
            "[Aug 500] Epoch 3/100  Train Loss: 0.3719  Val Loss: 0.7859  Val Acc: 0.675\n",
            "[Aug 500] Epoch 4/100  Train Loss: 0.3281  Val Loss: 0.6773  Val Acc: 0.745\n",
            "[Aug 500] Epoch 5/100  Train Loss: 0.2882  Val Loss: 0.7268  Val Acc: 0.767\n",
            "[Aug 500] Epoch 6/100  Train Loss: 0.2368  Val Loss: 0.7705  Val Acc: 0.760\n",
            "=> Aug500 early-stopping at epoch 6\n",
            "\n",
            "Test report (n_syn=500):\n",
            "                      precision    recall  f1-score   support\n",
            "\n",
            "            melanoma       0.32      0.37      0.34       117\n",
            "               nevus       0.76      0.60      0.67       393\n",
            "seborrheic_keratosis       0.29      0.51      0.37        90\n",
            "\n",
            "            accuracy                           0.54       600\n",
            "           macro avg       0.46      0.49      0.46       600\n",
            "        weighted avg       0.61      0.54      0.56       600\n",
            "\n",
            "  melanoma            : 0.368\n",
            "  nevus               : 0.595\n",
            "  seborrheic_keratosis: 0.511\n",
            "\n",
            "===== seed=43 =====\n",
            "\n",
            "===== Augmented run with 200 synthetic images =====\n",
            "Augmented: real 1600 + syn 200 = 1800\n",
            "[Aug 200] Epoch 1/100  Train Loss: 0.7468  Val Loss: 0.6213  Val Acc: 0.745\n",
            "[Aug 200] Epoch 2/100  Train Loss: 0.5047  Val Loss: 0.6445  Val Acc: 0.755\n",
            "[Aug 200] Epoch 3/100  Train Loss: 0.4379  Val Loss: 0.6504  Val Acc: 0.748\n",
            "[Aug 200] Epoch 4/100  Train Loss: 0.3674  Val Loss: 0.6892  Val Acc: 0.735\n",
            "[Aug 200] Epoch 5/100  Train Loss: 0.3289  Val Loss: 0.7359  Val Acc: 0.770\n",
            "[Aug 200] Epoch 6/100  Train Loss: 0.2540  Val Loss: 0.7148  Val Acc: 0.785\n",
            "=> Aug200 early-stopping at epoch 6\n",
            "\n",
            "Test report (n_syn=200):\n",
            "                      precision    recall  f1-score   support\n",
            "\n",
            "            melanoma       0.35      0.24      0.29       117\n",
            "               nevus       0.70      0.78      0.74       393\n",
            "seborrheic_keratosis       0.37      0.36      0.36        90\n",
            "\n",
            "            accuracy                           0.61       600\n",
            "           macro avg       0.48      0.46      0.46       600\n",
            "        weighted avg       0.58      0.61      0.59       600\n",
            "\n",
            "  melanoma            : 0.239\n",
            "  nevus               : 0.776\n",
            "  seborrheic_keratosis: 0.356\n",
            "\n",
            "===== Augmented run with 500 synthetic images =====\n",
            "Augmented: real 1600 + syn 500 = 2100\n",
            "[Aug 500] Epoch 1/100  Train Loss: 0.6396  Val Loss: 0.6626  Val Acc: 0.750\n",
            "[Aug 500] Epoch 2/100  Train Loss: 0.4461  Val Loss: 0.6846  Val Acc: 0.740\n",
            "[Aug 500] Epoch 3/100  Train Loss: 0.3645  Val Loss: 0.6709  Val Acc: 0.743\n",
            "[Aug 500] Epoch 4/100  Train Loss: 0.3306  Val Loss: 0.6569  Val Acc: 0.748\n",
            "[Aug 500] Epoch 5/100  Train Loss: 0.2790  Val Loss: 0.6713  Val Acc: 0.750\n",
            "[Aug 500] Epoch 6/100  Train Loss: 0.2539  Val Loss: 0.7409  Val Acc: 0.713\n",
            "[Aug 500] Epoch 7/100  Train Loss: 0.2133  Val Loss: 0.7437  Val Acc: 0.743\n",
            "[Aug 500] Epoch 8/100  Train Loss: 0.1863  Val Loss: 0.8089  Val Acc: 0.730\n",
            "[Aug 500] Epoch 9/100  Train Loss: 0.1465  Val Loss: 0.8209  Val Acc: 0.775\n",
            "=> Aug500 early-stopping at epoch 9\n",
            "\n",
            "Test report (n_syn=500):\n",
            "                      precision    recall  f1-score   support\n",
            "\n",
            "            melanoma       0.35      0.48      0.40       117\n",
            "               nevus       0.80      0.59      0.68       393\n",
            "seborrheic_keratosis       0.36      0.61      0.45        90\n",
            "\n",
            "            accuracy                           0.57       600\n",
            "           macro avg       0.50      0.56      0.51       600\n",
            "        weighted avg       0.65      0.57      0.59       600\n",
            "\n",
            "  melanoma            : 0.479\n",
            "  nevus               : 0.588\n",
            "  seborrheic_keratosis: 0.611\n",
            "\n",
            "===== seed=44 =====\n",
            "\n",
            "===== Augmented run with 200 synthetic images =====\n",
            "Augmented: real 1600 + syn 200 = 1800\n",
            "[Aug 200] Epoch 1/100  Train Loss: 0.7466  Val Loss: 0.6244  Val Acc: 0.777\n",
            "[Aug 200] Epoch 2/100  Train Loss: 0.5254  Val Loss: 0.6921  Val Acc: 0.718\n",
            "[Aug 200] Epoch 3/100  Train Loss: 0.4368  Val Loss: 0.6703  Val Acc: 0.728\n",
            "[Aug 200] Epoch 4/100  Train Loss: 0.3740  Val Loss: 0.8286  Val Acc: 0.677\n",
            "[Aug 200] Epoch 5/100  Train Loss: 0.3657  Val Loss: 0.6156  Val Acc: 0.782\n",
            "[Aug 200] Epoch 6/100  Train Loss: 0.2969  Val Loss: 0.7376  Val Acc: 0.782\n",
            "[Aug 200] Epoch 7/100  Train Loss: 0.2356  Val Loss: 0.7818  Val Acc: 0.733\n",
            "[Aug 200] Epoch 8/100  Train Loss: 0.2305  Val Loss: 0.7999  Val Acc: 0.748\n",
            "[Aug 200] Epoch 9/100  Train Loss: 0.1907  Val Loss: 0.7655  Val Acc: 0.755\n",
            "[Aug 200] Epoch 10/100  Train Loss: 0.1705  Val Loss: 0.7326  Val Acc: 0.748\n",
            "=> Aug200 early-stopping at epoch 10\n",
            "\n",
            "Test report (n_syn=200):\n",
            "                      precision    recall  f1-score   support\n",
            "\n",
            "            melanoma       0.33      0.57      0.42       117\n",
            "               nevus       0.79      0.57      0.66       393\n",
            "seborrheic_keratosis       0.34      0.42      0.38        90\n",
            "\n",
            "            accuracy                           0.55       600\n",
            "           macro avg       0.49      0.52      0.49       600\n",
            "        weighted avg       0.63      0.55      0.57       600\n",
            "\n",
            "  melanoma            : 0.573\n",
            "  nevus               : 0.573\n",
            "  seborrheic_keratosis: 0.422\n",
            "\n",
            "===== Augmented run with 500 synthetic images =====\n",
            "Augmented: real 1600 + syn 500 = 2100\n",
            "[Aug 500] Epoch 1/100  Train Loss: 0.6507  Val Loss: 0.6619  Val Acc: 0.723\n",
            "[Aug 500] Epoch 2/100  Train Loss: 0.4515  Val Loss: 0.6778  Val Acc: 0.735\n",
            "[Aug 500] Epoch 3/100  Train Loss: 0.3802  Val Loss: 0.6500  Val Acc: 0.750\n",
            "[Aug 500] Epoch 4/100  Train Loss: 0.3275  Val Loss: 0.6333  Val Acc: 0.762\n",
            "[Aug 500] Epoch 5/100  Train Loss: 0.2870  Val Loss: 0.7557  Val Acc: 0.713\n",
            "[Aug 500] Epoch 6/100  Train Loss: 0.2337  Val Loss: 0.6795  Val Acc: 0.757\n",
            "[Aug 500] Epoch 7/100  Train Loss: 0.2135  Val Loss: 0.7656  Val Acc: 0.752\n",
            "[Aug 500] Epoch 8/100  Train Loss: 0.1774  Val Loss: 0.6756  Val Acc: 0.757\n",
            "[Aug 500] Epoch 9/100  Train Loss: 0.1604  Val Loss: 0.8059  Val Acc: 0.748\n",
            "=> Aug500 early-stopping at epoch 9\n",
            "\n",
            "Test report (n_syn=500):\n",
            "                      precision    recall  f1-score   support\n",
            "\n",
            "            melanoma       0.33      0.44      0.38       117\n",
            "               nevus       0.74      0.57      0.64       393\n",
            "seborrheic_keratosis       0.36      0.56      0.44        90\n",
            "\n",
            "            accuracy                           0.54       600\n",
            "           macro avg       0.47      0.52      0.49       600\n",
            "        weighted avg       0.60      0.54      0.56       600\n",
            "\n",
            "  melanoma            : 0.444\n",
            "  nevus               : 0.567\n",
            "  seborrheic_keratosis: 0.556\n",
            "\n",
            "===== seed=45 =====\n",
            "\n",
            "===== Augmented run with 200 synthetic images =====\n",
            "Augmented: real 1600 + syn 200 = 1800\n",
            "[Aug 200] Epoch 1/100  Train Loss: 0.7288  Val Loss: 0.6414  Val Acc: 0.762\n",
            "[Aug 200] Epoch 2/100  Train Loss: 0.5117  Val Loss: 0.6877  Val Acc: 0.738\n",
            "[Aug 200] Epoch 3/100  Train Loss: 0.4340  Val Loss: 0.6921  Val Acc: 0.740\n",
            "[Aug 200] Epoch 4/100  Train Loss: 0.3559  Val Loss: 0.7313  Val Acc: 0.755\n",
            "[Aug 200] Epoch 5/100  Train Loss: 0.3265  Val Loss: 0.6945  Val Acc: 0.757\n",
            "[Aug 200] Epoch 6/100  Train Loss: 0.2871  Val Loss: 0.6762  Val Acc: 0.757\n",
            "=> Aug200 early-stopping at epoch 6\n",
            "\n",
            "Test report (n_syn=200):\n",
            "                      precision    recall  f1-score   support\n",
            "\n",
            "            melanoma       0.34      0.46      0.39       117\n",
            "               nevus       0.76      0.63      0.69       393\n",
            "seborrheic_keratosis       0.39      0.50      0.44        90\n",
            "\n",
            "            accuracy                           0.57       600\n",
            "           macro avg       0.50      0.53      0.50       600\n",
            "        weighted avg       0.62      0.57      0.59       600\n",
            "\n",
            "  melanoma            : 0.462\n",
            "  nevus               : 0.626\n",
            "  seborrheic_keratosis: 0.500\n",
            "\n",
            "===== Augmented run with 500 synthetic images =====\n",
            "Augmented: real 1600 + syn 500 = 2100\n",
            "[Aug 500] Epoch 1/100  Train Loss: 0.6412  Val Loss: 0.6520  Val Acc: 0.735\n",
            "[Aug 500] Epoch 2/100  Train Loss: 0.4318  Val Loss: 0.6299  Val Acc: 0.757\n",
            "[Aug 500] Epoch 3/100  Train Loss: 0.3639  Val Loss: 0.6371  Val Acc: 0.755\n",
            "[Aug 500] Epoch 4/100  Train Loss: 0.3334  Val Loss: 0.5994  Val Acc: 0.777\n",
            "[Aug 500] Epoch 5/100  Train Loss: 0.3026  Val Loss: 0.6954  Val Acc: 0.745\n",
            "[Aug 500] Epoch 6/100  Train Loss: 0.2401  Val Loss: 0.6446  Val Acc: 0.770\n",
            "[Aug 500] Epoch 7/100  Train Loss: 0.2060  Val Loss: 0.7377  Val Acc: 0.775\n",
            "[Aug 500] Epoch 8/100  Train Loss: 0.2020  Val Loss: 0.7628  Val Acc: 0.738\n",
            "[Aug 500] Epoch 9/100  Train Loss: 0.1794  Val Loss: 0.7706  Val Acc: 0.743\n",
            "=> Aug500 early-stopping at epoch 9\n",
            "\n",
            "Test report (n_syn=500):\n",
            "                      precision    recall  f1-score   support\n",
            "\n",
            "            melanoma       0.34      0.45      0.39       117\n",
            "               nevus       0.73      0.69      0.71       393\n",
            "seborrheic_keratosis       0.45      0.36      0.40        90\n",
            "\n",
            "            accuracy                           0.59       600\n",
            "           macro avg       0.51      0.50      0.50       600\n",
            "        weighted avg       0.61      0.59      0.60       600\n",
            "\n",
            "  melanoma            : 0.453\n",
            "  nevus               : 0.692\n",
            "  seborrheic_keratosis: 0.356\n",
            "\n",
            "===== seed=46 =====\n",
            "\n",
            "===== Augmented run with 200 synthetic images =====\n",
            "Augmented: real 1600 + syn 200 = 1800\n",
            "[Aug 200] Epoch 1/100  Train Loss: 0.7282  Val Loss: 0.6610  Val Acc: 0.738\n",
            "[Aug 200] Epoch 2/100  Train Loss: 0.4915  Val Loss: 0.7024  Val Acc: 0.715\n",
            "[Aug 200] Epoch 3/100  Train Loss: 0.4179  Val Loss: 0.6625  Val Acc: 0.767\n",
            "[Aug 200] Epoch 4/100  Train Loss: 0.3759  Val Loss: 0.6415  Val Acc: 0.762\n",
            "[Aug 200] Epoch 5/100  Train Loss: 0.3069  Val Loss: 0.7795  Val Acc: 0.723\n",
            "[Aug 200] Epoch 6/100  Train Loss: 0.2691  Val Loss: 0.7527  Val Acc: 0.740\n",
            "[Aug 200] Epoch 7/100  Train Loss: 0.2191  Val Loss: 0.7113  Val Acc: 0.750\n",
            "[Aug 200] Epoch 8/100  Train Loss: 0.2192  Val Loss: 0.7908  Val Acc: 0.765\n",
            "[Aug 200] Epoch 9/100  Train Loss: 0.1943  Val Loss: 0.8347  Val Acc: 0.770\n",
            "=> Aug200 early-stopping at epoch 9\n",
            "\n",
            "Test report (n_syn=200):\n",
            "                      precision    recall  f1-score   support\n",
            "\n",
            "            melanoma       0.34      0.53      0.42       117\n",
            "               nevus       0.74      0.66      0.70       393\n",
            "seborrheic_keratosis       0.45      0.32      0.38        90\n",
            "\n",
            "            accuracy                           0.59       600\n",
            "           macro avg       0.51      0.51      0.50       600\n",
            "        weighted avg       0.62      0.59      0.59       600\n",
            "\n",
            "  melanoma            : 0.530\n",
            "  nevus               : 0.664\n",
            "  seborrheic_keratosis: 0.322\n",
            "\n",
            "===== Augmented run with 500 synthetic images =====\n",
            "Augmented: real 1600 + syn 500 = 2100\n",
            "[Aug 500] Epoch 1/100  Train Loss: 0.6390  Val Loss: 0.6622  Val Acc: 0.738\n",
            "[Aug 500] Epoch 2/100  Train Loss: 0.4587  Val Loss: 0.6806  Val Acc: 0.743\n",
            "[Aug 500] Epoch 3/100  Train Loss: 0.3540  Val Loss: 0.6290  Val Acc: 0.762\n",
            "[Aug 500] Epoch 4/100  Train Loss: 0.3236  Val Loss: 0.6365  Val Acc: 0.795\n",
            "[Aug 500] Epoch 5/100  Train Loss: 0.2765  Val Loss: 0.7658  Val Acc: 0.705\n",
            "[Aug 500] Epoch 6/100  Train Loss: 0.2248  Val Loss: 0.7857  Val Acc: 0.750\n",
            "[Aug 500] Epoch 7/100  Train Loss: 0.2221  Val Loss: 0.6738  Val Acc: 0.800\n",
            "[Aug 500] Epoch 8/100  Train Loss: 0.1555  Val Loss: 0.7759  Val Acc: 0.752\n",
            "=> Aug500 early-stopping at epoch 8\n",
            "\n",
            "Test report (n_syn=500):\n",
            "                      precision    recall  f1-score   support\n",
            "\n",
            "            melanoma       0.35      0.59      0.44       117\n",
            "               nevus       0.79      0.51      0.62       393\n",
            "seborrheic_keratosis       0.38      0.62      0.47        90\n",
            "\n",
            "            accuracy                           0.54       600\n",
            "           macro avg       0.51      0.57      0.51       600\n",
            "        weighted avg       0.64      0.54      0.56       600\n",
            "\n",
            "  melanoma            : 0.590\n",
            "  nevus               : 0.511\n",
            "  seborrheic_keratosis: 0.622\n",
            "\n",
            "Aug+200 over seeds:\n",
            "  epochs: 7.8 ± 1.6\n",
            "  mel recall: 0.456 ± 0.115\n",
            "\n",
            "Aug+500 over seeds:\n",
            "  epochs: 8.2 ± 1.2\n",
            "  mel recall: 0.467 ± 0.072\n"
          ]
        }
      ]
    },
    {
      "cell_type": "code",
      "source": [
        "from scipy.stats import ttest_rel\n",
        "import numpy as np\n",
        "\n",
        "# convert to arrays\n",
        "base = np.array(baseline_recalls)\n",
        "aug2 = np.array(aug200_recalls)\n",
        "\n",
        "# paired t-test\n",
        "t_stat, p_val = ttest_rel(aug2, base)\n",
        "print(f\"\\nPaired t-test (aug-200 vs baseline): t = {t_stat:.2f}, p = {p_val:.3f}\")\n",
        "if p_val < 0.05:\n",
        "    print(\"=> +200 synthetic images yields a statistically significant increase in melanoma recall (p < 0.05).\")\n",
        "else:\n",
        "    print(\"=> No significant difference in melanoma recall (p ≥ 0.05).\")\n"
      ],
      "metadata": {
        "colab": {
          "base_uri": "https://localhost:8080/"
        },
        "id": "aKoFHwoON6B8",
        "outputId": "347f7978-c3bd-489b-a439-b7a47646514e"
      },
      "execution_count": 26,
      "outputs": [
        {
          "output_type": "stream",
          "name": "stdout",
          "text": [
            "\n",
            "Paired t-test (aug-200 vs baseline): t = 1.11, p = 0.328\n",
            "⇒ No significant difference in melanoma recall (p ≥ 0.05).\n"
          ]
        }
      ]
    },
    {
      "cell_type": "code",
      "source": [
        "diffs = np.array(aug200_recalls) - np.array(baseline_recalls)\n",
        "print(f\"Mean Δrecall = {diffs.mean():.3f} ± {diffs.std():.3f}\")\n"
      ],
      "metadata": {
        "colab": {
          "base_uri": "https://localhost:8080/"
        },
        "id": "Se-9PD16W3QH",
        "outputId": "0da1c9e9-0773-4b12-e346-121681a429c4"
      },
      "execution_count": 31,
      "outputs": [
        {
          "output_type": "stream",
          "name": "stdout",
          "text": [
            "Mean Δrecall = 0.082 ± 0.148\n"
          ]
        }
      ]
    },
    {
      "cell_type": "code",
      "source": [
        "import matplotlib.pyplot as plt\n",
        "\n",
        "plt.figure(figsize=(6,4))\n",
        "for key, (tr, vl) in all_train_losses.items():\n",
        "    plt.plot(vl, label=str(key))\n",
        "plt.xlabel(\"Epoch\")\n",
        "plt.ylabel(\"Validation Loss\")\n",
        "plt.title(\"Validation Loss Curves\")\n",
        "plt.legend()\n",
        "plt.grid(True)\n",
        "plt.tight_layout()\n",
        "plt.show()\n"
      ],
      "metadata": {
        "colab": {
          "base_uri": "https://localhost:8080/",
          "height": 407
        },
        "id": "BSF4hbPdFS_v",
        "outputId": "e7bab23d-ae68-4a30-dd76-58a52f397629"
      },
      "execution_count": 27,
      "outputs": [
        {
          "output_type": "display_data",
          "data": {
            "text/plain": [
              "<Figure size 600x400 with 1 Axes>"
            ],
            "image/png": "[encoded data removed]"
          },
          "metadata": {}
        }
      ]
    },
    {
      "cell_type": "code",
      "source": [
        "\n",
        "\n",
        "acc_base = np.mean(np.array(y_true_base) == np.array(y_pred_base))\n",
        "acc_200  = np.mean(np.array(y_true_200)  == np.array(y_pred_200))\n",
        "acc_500  = np.mean(np.array(y_true_500)  == np.array(y_pred_500))\n",
        "\n",
        "labels = [\"Baseline\", \"Aug-200\", \"Aug-500\"]\n",
        "accs   = [acc_base, acc_200, acc_500]\n",
        "\n",
        "plt.figure(figsize=(6,4))\n",
        "bars = plt.bar(labels, accs)\n",
        "plt.ylim(0,1)\n",
        "plt.ylabel(\"Accuracy\")\n",
        "plt.title(\"Overall Test Accuracy\")\n",
        "for bar, v in zip(bars, accs):\n",
        "    plt.text(bar.get_x() + bar.get_width()/2, v + 0.02, f\"{v:.2f}\", ha='center')\n",
        "plt.tight_layout()\n",
        "plt.show()\n"
      ],
      "metadata": {
        "colab": {
          "base_uri": "https://localhost:8080/",
          "height": 407
        },
        "id": "SWbj3o4pCIfs",
        "outputId": "2d9769d2-32f3-4260-8aec-f569b70f5cde"
      },
      "execution_count": 28,
      "outputs": [
        {
          "output_type": "display_data",
          "data": {
            "text/plain": [
              "<Figure size 600x400 with 1 Axes>"
            ],
            "image/png": "[encoded data removed]"
          },
          "metadata": {}
        }
      ]
    },
    {
      "cell_type": "code",
      "source": [
        "import pandas as pd\n",
        "\n",
        "\n",
        "df = pd.DataFrame({\n",
        "    \"Baseline\": list(per_class_acc_baseline.values()),\n",
        "    \"Aug-200\":  list(per_class_acc_200.values()),\n",
        "    \"Aug-500\":  list(per_class_acc_500.values())\n",
        "}, index=real_ds.classes)\n",
        "\n",
        "ax = df.plot.bar(figsize=(6,4), rot=0)\n",
        "ax.set_ylabel(\"Recall\")\n",
        "ax.set_title(\"Per-Class Recall\")\n",
        "ax.grid(axis='y', linestyle='--', alpha=0.5)\n",
        "plt.tight_layout()\n",
        "plt.show()\n"
      ],
      "metadata": {
        "colab": {
          "base_uri": "https://localhost:8080/",
          "height": 407
        },
        "id": "qOohAXmeCPkQ",
        "outputId": "846be59b-e50c-4749-980d-5517e328d369"
      },
      "execution_count": 29,
      "outputs": [
        {
          "output_type": "display_data",
          "data": {
            "text/plain": [
              "<Figure size 600x400 with 1 Axes>"
            ],
            "image/png": "[encoded data removed]"
          },
          "metadata": {}
        }
      ]
    },
    {
      "cell_type": "code",
      "source": [
        "from google.colab import drive\n",
        "drive.mount('/content/drive')"
      ],
      "metadata": {
        "colab": {
          "base_uri": "https://localhost:8080/"
        },
        "id": "_6m14vxxdkKN",
        "outputId": "99607c0a-7460-4d89-f03f-19720b6ff5ef"
      },
      "execution_count": 3,
      "outputs": [
        {
          "output_type": "stream",
          "name": "stdout",
          "text": [
            "Mounted at /content/drive\n"
          ]
        }
      ]
    },
    {
      "cell_type": "code",
      "source": [
        "torch.save(model.state_dict(), str(BASE / 'final_resnet18_dcgan_aug_S.pth'))\n",
        "print(\"Saved augmented model weights\")"
      ],
      "metadata": {
        "colab": {
          "base_uri": "https://localhost:8080/"
        },
        "id": "Q8YdXGSK2WN0",
        "outputId": "0c7a0c08-4c46-4ddd-a92d-f81f269720c3"
      },
      "execution_count": 30,
      "outputs": [
        {
          "output_type": "stream",
          "name": "stdout",
          "text": [
            "Saved augmented model weights\n"
          ]
        }
      ]
    },
    {
      "cell_type": "code",
      "source": [
        "print(\"hi\")"
      ],
      "metadata": {
        "colab": {
          "base_uri": "https://localhost:8080/"
        },
        "id": "Z6dgUe4itc5C",
        "outputId": "3480990d-47dc-4caf-a11e-6e2cbe625915"
      },
      "execution_count": 18,
      "outputs": [
        {
          "output_type": "stream",
          "name": "stdout",
          "text": [
            "hi\n"
          ]
        }
      ]
    },
    {
      "cell_type": "code",
      "source": [
        "import torchvision.utils as vutils\n",
        "\n",
        "out_dir = SYN_ROOT / 'melanoma'\n",
        "out_dir.mkdir(exist_ok=True, parents=True)\n",
        "\n",
        "generator.eval()\n",
        "noise = torch.randn(500, nz, 1, 1, device=device)\n",
        "fake_imgs = generator(noise).cpu()\n",
        "fake_imgs = (fake_imgs + 1) / 2     # rescale [-1,1]→[0,1]\n",
        "\n",
        "for i, img in enumerate(fake_imgs):\n",
        "    vutils.save_image(img, out_dir / f\"dcgan_{i:03d}.png\")\n",
        "print(\" Generated 500 synthetic melanoma images\")\n"
      ],
      "metadata": {
        "colab": {
          "base_uri": "https://localhost:8080/"
        },
        "id": "1-uzxBNdYlJb",
        "outputId": "ac52e457-f162-4158-ef9b-3b96eec8ec64"
      },
      "execution_count": null,
      "outputs": [
        {
          "output_type": "stream",
          "name": "stdout",
          "text": [
            " Generated 500 synthetic melanoma images\n"
          ]
        }
      ]
    }
  ]
}